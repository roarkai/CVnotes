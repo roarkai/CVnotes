{
 "cells": [
  {
   "cell_type": "markdown",
   "id": "2718b52d",
   "metadata": {},
   "source": [
    "# Image Classification"
   ]
  },
  {
   "cell_type": "markdown",
   "id": "2fdf6ce1",
   "metadata": {},
   "source": [
    "# I. KNN"
   ]
  },
  {
   "cell_type": "markdown",
   "id": "d0630c9f",
   "metadata": {},
   "source": [
    "## I.1 思路\n",
    "取距离（distance）最近的训练集样本类型作为被分类目标的类型"
   ]
  },
  {
   "cell_type": "markdown",
   "id": "86b61c9b",
   "metadata": {},
   "source": [
    "## I.2 算法"
   ]
  },
  {
   "cell_type": "markdown",
   "id": "9ddc48ce",
   "metadata": {},
   "source": [
    "## I.3 优缺点\n",
    "**优点**：实现简单 \\\n",
    "**缺点**：\n",
    "1. 计算distance的复杂度高\n",
    "2. training环节只要记住training set，计算都集中在inference环节，和实践中的需求相反。\n",
    "3. 如果选择L1、L2norm作为distance的度量工具，在图片分类任务中，这个意义上定义的distance，和人类直觉得到的similarity差异很大。两个例子：\\\n",
    "(1) 一张人像用3种不同方式（左移、调黑、挖空部分画面）做处理得到的三张图与原图的distance相同的条件下，看到实际图像的效果差异很大。这体现了用L1norm计算的distance跟人工评价的distance之间的巨大差异。 \\\n",
    "(2) 用t-SNE(t-SNE用L2 norm)算法把图片投影到二维平面上看，得到的结果显示“距离相近”的图片实际上是那些背景更相似的图片。"
   ]
  },
  {
   "cell_type": "markdown",
   "id": "c4e4091e",
   "metadata": {},
   "source": [
    "## I.4 应用要点\n",
    "### I.4.1 训练注意事项\n",
    "1. 数据预处理：训练集数据要normalize\n",
    "2. 如果数据维度太高，可以先做降维，比如PCA、NCA\n",
    "3. 如果维度高，KNN的推理速度太慢，考虑用approximate Nearest Neighbor library来加速每张图片的nearest neighbor的提取。\n",
    "4. 实际使用KNN的时候，超参数不只是不同的k取值，还应该尝试不同的distance定义，通常会同时试L1和L2norm。\n",
    "5. 整个training data要分成training set和validation set。\\\n",
    "(1) 他们之间的分配要随机。\\\n",
    "(2) 一般70%-90%的样本作为traning set，10%-30%作为validation set.如果超参数数量较大，应该将多一点的样本分给validation set.这样才能尽可能好的比较超参数之间的差异。\\\n",
    "(3) 只要计算资源允许，尽可能做cross validation."
   ]
  },
  {
   "cell_type": "markdown",
   "id": "9b6f5f40",
   "metadata": {},
   "source": [
    "### I.4.2 应用结果\n",
    "| distance | k | Accuracy |others|\n",
    "|----------|----------|----------|----------|\n",
    "| L1 norm | 1 | 38.6% | |\n",
    "| L2 norm | 1 | 35.4% | L2会让单个维度dist差异分布更均衡的2张图片距离更小|"
   ]
  },
  {
   "cell_type": "markdown",
   "id": "25cdec0e",
   "metadata": {},
   "source": [
    "# II. Linear classifier"
   ]
  },
  {
   "cell_type": "markdown",
   "id": "b37276f0",
   "metadata": {},
   "source": []
  },
  {
   "cell_type": "markdown",
   "id": "c630f7c2",
   "metadata": {},
   "source": []
  },
  {
   "cell_type": "markdown",
   "id": "48514030",
   "metadata": {},
   "source": []
  },
  {
   "cell_type": "markdown",
   "id": "df7f4d90",
   "metadata": {},
   "source": [
    "## III. CNN"
   ]
  },
  {
   "cell_type": "markdown",
   "id": "ba9ae0c1",
   "metadata": {},
   "source": []
  }
 ],
 "metadata": {
  "kernelspec": {
   "display_name": "Python [conda env:231n] *",
   "language": "python",
   "name": "conda-env-231n-py"
  },
  "language_info": {
   "codemirror_mode": {
    "name": "ipython",
    "version": 3
   },
   "file_extension": ".py",
   "mimetype": "text/x-python",
   "name": "python",
   "nbconvert_exporter": "python",
   "pygments_lexer": "ipython3",
   "version": "3.10.12"
  }
 },
 "nbformat": 4,
 "nbformat_minor": 5
}
