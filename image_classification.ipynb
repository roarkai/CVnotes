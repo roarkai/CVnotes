{
 "cells": [
  {
   "cell_type": "markdown",
   "id": "2718b52d",
   "metadata": {},
   "source": [
    "# Image Classification"
   ]
  },
  {
   "cell_type": "markdown",
   "id": "2fdf6ce1",
   "metadata": {},
   "source": [
    "# I. KNN"
   ]
  },
  {
   "cell_type": "markdown",
   "id": "d0630c9f",
   "metadata": {},
   "source": [
    "## I.1 思路"
   ]
  },
  {
   "cell_type": "markdown",
   "id": "86b61c9b",
   "metadata": {},
   "source": [
    "## I.2 算法"
   ]
  },
  {
   "cell_type": "markdown",
   "id": "9ddc48ce",
   "metadata": {},
   "source": [
    "## I.3 优缺点"
   ]
  },
  {
   "cell_type": "markdown",
   "id": "25cdec0e",
   "metadata": {},
   "source": []
  }
 ],
 "metadata": {
  "kernelspec": {
   "display_name": "Python [conda env:231n] *",
   "language": "python",
   "name": "conda-env-231n-py"
  },
  "language_info": {
   "codemirror_mode": {
    "name": "ipython",
    "version": 3
   },
   "file_extension": ".py",
   "mimetype": "text/x-python",
   "name": "python",
   "nbconvert_exporter": "python",
   "pygments_lexer": "ipython3",
   "version": "3.10.12"
  }
 },
 "nbformat": 4,
 "nbformat_minor": 5
}
